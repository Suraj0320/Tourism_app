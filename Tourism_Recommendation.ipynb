{
 "cells": [
  {
   "cell_type": "code",
   "execution_count": 1,
   "id": "a3d794a3-e3e5-4465-af28-283948558ab7",
   "metadata": {},
   "outputs": [],
   "source": [
    "import pandas as pd\n",
    "import numpy as np\n",
    "from sklearn.preprocessing import LabelEncoder, StandardScaler\n",
    "from sklearn.cluster import KMeans\n",
    "import matplotlib.pyplot as plt\n",
    "import seaborn as sns\n",
    "from sklearn.model_selection import train_test_split\n",
    "from sklearn.linear_model import LogisticRegression\n",
    "from sklearn.metrics import accuracy_score, confusion_matrix, classification_report\n",
    "from sklearn.decomposition import TruncatedSVD\n",
    "from sklearn.metrics.pairwise import cosine_similarity"
   ]
  },
  {
   "cell_type": "code",
   "execution_count": 2,
   "id": "3aa39524-328c-4bd6-8a48-a5796d1ed1d2",
   "metadata": {},
   "outputs": [],
   "source": [
    "# Load dataset\n",
    "data = pd.read_csv('tourism_data.csv')"
   ]
  },
  {
   "cell_type": "code",
   "execution_count": 3,
   "id": "089f20b3-2c31-4310-893c-9f6c6caeb536",
   "metadata": {},
   "outputs": [
    {
     "data": {
      "text/html": [
       "<div>\n",
       "<style scoped>\n",
       "    .dataframe tbody tr th:only-of-type {\n",
       "        vertical-align: middle;\n",
       "    }\n",
       "\n",
       "    .dataframe tbody tr th {\n",
       "        vertical-align: top;\n",
       "    }\n",
       "\n",
       "    .dataframe thead th {\n",
       "        text-align: right;\n",
       "    }\n",
       "</style>\n",
       "<table border=\"1\" class=\"dataframe\">\n",
       "  <thead>\n",
       "    <tr style=\"text-align: right;\">\n",
       "      <th></th>\n",
       "      <th>User_ID</th>\n",
       "      <th>Age</th>\n",
       "      <th>Gender</th>\n",
       "      <th>Location_ID</th>\n",
       "      <th>Location_Name</th>\n",
       "      <th>Category</th>\n",
       "      <th>Rating</th>\n",
       "      <th>Review</th>\n",
       "      <th>Visit_Date</th>\n",
       "      <th>Duration</th>\n",
       "      <th>...</th>\n",
       "      <th>Companions</th>\n",
       "      <th>Accommodation</th>\n",
       "      <th>Price_Range</th>\n",
       "      <th>Local_Cuisine_Rating</th>\n",
       "      <th>Weather_Preference</th>\n",
       "      <th>Transport</th>\n",
       "      <th>Is_Family_Friendly</th>\n",
       "      <th>Language_Barrier</th>\n",
       "      <th>Budget</th>\n",
       "      <th>Recommend</th>\n",
       "    </tr>\n",
       "  </thead>\n",
       "  <tbody>\n",
       "    <tr>\n",
       "      <th>0</th>\n",
       "      <td>930</td>\n",
       "      <td>24</td>\n",
       "      <td>Female</td>\n",
       "      <td>1797</td>\n",
       "      <td>Great Wall of China</td>\n",
       "      <td>Adventure</td>\n",
       "      <td>3</td>\n",
       "      <td>Amazing view</td>\n",
       "      <td>2023-05-24</td>\n",
       "      <td>9.3</td>\n",
       "      <td>...</td>\n",
       "      <td>1</td>\n",
       "      <td>Resort</td>\n",
       "      <td>High</td>\n",
       "      <td>5</td>\n",
       "      <td>Moderate</td>\n",
       "      <td>Car</td>\n",
       "      <td>0</td>\n",
       "      <td>1</td>\n",
       "      <td>500</td>\n",
       "      <td>0</td>\n",
       "    </tr>\n",
       "    <tr>\n",
       "      <th>1</th>\n",
       "      <td>394</td>\n",
       "      <td>39</td>\n",
       "      <td>Male</td>\n",
       "      <td>2000</td>\n",
       "      <td>Taj Mahal</td>\n",
       "      <td>Urban</td>\n",
       "      <td>4</td>\n",
       "      <td>Loved the architecture</td>\n",
       "      <td>2024-03-26</td>\n",
       "      <td>3.1</td>\n",
       "      <td>...</td>\n",
       "      <td>2</td>\n",
       "      <td>Guesthouse</td>\n",
       "      <td>High</td>\n",
       "      <td>5</td>\n",
       "      <td>Cool</td>\n",
       "      <td>Walking</td>\n",
       "      <td>0</td>\n",
       "      <td>1</td>\n",
       "      <td>5000</td>\n",
       "      <td>1</td>\n",
       "    </tr>\n",
       "    <tr>\n",
       "      <th>2</th>\n",
       "      <td>784</td>\n",
       "      <td>26</td>\n",
       "      <td>Female</td>\n",
       "      <td>1600</td>\n",
       "      <td>Machu Picchu</td>\n",
       "      <td>Nature</td>\n",
       "      <td>1</td>\n",
       "      <td>Too crowded</td>\n",
       "      <td>2024-02-11</td>\n",
       "      <td>8.1</td>\n",
       "      <td>...</td>\n",
       "      <td>0</td>\n",
       "      <td>Airbnb</td>\n",
       "      <td>Medium</td>\n",
       "      <td>3</td>\n",
       "      <td>Cool</td>\n",
       "      <td>Public Transport</td>\n",
       "      <td>0</td>\n",
       "      <td>0</td>\n",
       "      <td>2000</td>\n",
       "      <td>0</td>\n",
       "    </tr>\n",
       "    <tr>\n",
       "      <th>3</th>\n",
       "      <td>601</td>\n",
       "      <td>60</td>\n",
       "      <td>Male</td>\n",
       "      <td>1356</td>\n",
       "      <td>Grand Canyon</td>\n",
       "      <td>Historical</td>\n",
       "      <td>1</td>\n",
       "      <td>Too crowded</td>\n",
       "      <td>2023-08-27</td>\n",
       "      <td>2.3</td>\n",
       "      <td>...</td>\n",
       "      <td>1</td>\n",
       "      <td>Hotel</td>\n",
       "      <td>Medium</td>\n",
       "      <td>5</td>\n",
       "      <td>Warm</td>\n",
       "      <td>Walking</td>\n",
       "      <td>1</td>\n",
       "      <td>0</td>\n",
       "      <td>2000</td>\n",
       "      <td>0</td>\n",
       "    </tr>\n",
       "    <tr>\n",
       "      <th>4</th>\n",
       "      <td>586</td>\n",
       "      <td>69</td>\n",
       "      <td>Female</td>\n",
       "      <td>1468</td>\n",
       "      <td>Grand Canyon</td>\n",
       "      <td>Urban</td>\n",
       "      <td>4</td>\n",
       "      <td>Too crowded</td>\n",
       "      <td>2021-11-23</td>\n",
       "      <td>7.4</td>\n",
       "      <td>...</td>\n",
       "      <td>4</td>\n",
       "      <td>Hostel</td>\n",
       "      <td>Medium</td>\n",
       "      <td>2</td>\n",
       "      <td>Warm</td>\n",
       "      <td>Public Transport</td>\n",
       "      <td>0</td>\n",
       "      <td>1</td>\n",
       "      <td>1500</td>\n",
       "      <td>0</td>\n",
       "    </tr>\n",
       "  </tbody>\n",
       "</table>\n",
       "<p>5 rows × 21 columns</p>\n",
       "</div>"
      ],
      "text/plain": [
       "   User_ID  Age  Gender  Location_ID        Location_Name    Category  Rating  \\\n",
       "0      930   24  Female         1797  Great Wall of China   Adventure       3   \n",
       "1      394   39    Male         2000            Taj Mahal       Urban       4   \n",
       "2      784   26  Female         1600         Machu Picchu      Nature       1   \n",
       "3      601   60    Male         1356         Grand Canyon  Historical       1   \n",
       "4      586   69  Female         1468         Grand Canyon       Urban       4   \n",
       "\n",
       "                   Review  Visit_Date  Duration  ... Companions  \\\n",
       "0            Amazing view  2023-05-24       9.3  ...          1   \n",
       "1  Loved the architecture  2024-03-26       3.1  ...          2   \n",
       "2             Too crowded  2024-02-11       8.1  ...          0   \n",
       "3             Too crowded  2023-08-27       2.3  ...          1   \n",
       "4             Too crowded  2021-11-23       7.4  ...          4   \n",
       "\n",
       "   Accommodation Price_Range Local_Cuisine_Rating  Weather_Preference  \\\n",
       "0         Resort        High                    5            Moderate   \n",
       "1     Guesthouse        High                    5                Cool   \n",
       "2         Airbnb      Medium                    3                Cool   \n",
       "3          Hotel      Medium                    5                Warm   \n",
       "4         Hostel      Medium                    2                Warm   \n",
       "\n",
       "          Transport Is_Family_Friendly  Language_Barrier  Budget  Recommend  \n",
       "0               Car                  0                 1     500          0  \n",
       "1           Walking                  0                 1    5000          1  \n",
       "2  Public Transport                  0                 0    2000          0  \n",
       "3           Walking                  1                 0    2000          0  \n",
       "4  Public Transport                  0                 1    1500          0  \n",
       "\n",
       "[5 rows x 21 columns]"
      ]
     },
     "execution_count": 3,
     "metadata": {},
     "output_type": "execute_result"
    }
   ],
   "source": [
    "data.head()"
   ]
  },
  {
   "cell_type": "code",
   "execution_count": 4,
   "id": "4b8468a3-99a0-458d-bef0-b27ac35a442e",
   "metadata": {},
   "outputs": [
    {
     "name": "stdout",
     "output_type": "stream",
     "text": [
      "<class 'pandas.core.frame.DataFrame'>\n",
      "RangeIndex: 5000 entries, 0 to 4999\n",
      "Data columns (total 21 columns):\n",
      " #   Column                Non-Null Count  Dtype  \n",
      "---  ------                --------------  -----  \n",
      " 0   User_ID               5000 non-null   int64  \n",
      " 1   Age                   5000 non-null   int64  \n",
      " 2   Gender                5000 non-null   object \n",
      " 3   Location_ID           5000 non-null   int64  \n",
      " 4   Location_Name         5000 non-null   object \n",
      " 5   Category              5000 non-null   object \n",
      " 6   Rating                5000 non-null   int64  \n",
      " 7   Review                5000 non-null   object \n",
      " 8   Visit_Date            5000 non-null   object \n",
      " 9   Duration              5000 non-null   float64\n",
      " 10  Activity              5000 non-null   object \n",
      " 11  Companions            5000 non-null   int64  \n",
      " 12  Accommodation         5000 non-null   object \n",
      " 13  Price_Range           5000 non-null   object \n",
      " 14  Local_Cuisine_Rating  5000 non-null   int64  \n",
      " 15  Weather_Preference    5000 non-null   object \n",
      " 16  Transport             5000 non-null   object \n",
      " 17  Is_Family_Friendly    5000 non-null   int64  \n",
      " 18  Language_Barrier      5000 non-null   int64  \n",
      " 19  Budget                5000 non-null   int64  \n",
      " 20  Recommend             5000 non-null   int64  \n",
      "dtypes: float64(1), int64(10), object(10)\n",
      "memory usage: 820.4+ KB\n"
     ]
    }
   ],
   "source": [
    "data.info()"
   ]
  },
  {
   "cell_type": "code",
   "execution_count": 5,
   "id": "42981357-fe5c-457e-bc9c-10d44e088a6c",
   "metadata": {},
   "outputs": [
    {
     "data": {
      "text/html": [
       "<div>\n",
       "<style scoped>\n",
       "    .dataframe tbody tr th:only-of-type {\n",
       "        vertical-align: middle;\n",
       "    }\n",
       "\n",
       "    .dataframe tbody tr th {\n",
       "        vertical-align: top;\n",
       "    }\n",
       "\n",
       "    .dataframe thead th {\n",
       "        text-align: right;\n",
       "    }\n",
       "</style>\n",
       "<table border=\"1\" class=\"dataframe\">\n",
       "  <thead>\n",
       "    <tr style=\"text-align: right;\">\n",
       "      <th></th>\n",
       "      <th>User_ID</th>\n",
       "      <th>Age</th>\n",
       "      <th>Location_ID</th>\n",
       "      <th>Rating</th>\n",
       "      <th>Duration</th>\n",
       "      <th>Companions</th>\n",
       "      <th>Local_Cuisine_Rating</th>\n",
       "      <th>Is_Family_Friendly</th>\n",
       "      <th>Language_Barrier</th>\n",
       "      <th>Budget</th>\n",
       "      <th>Recommend</th>\n",
       "    </tr>\n",
       "  </thead>\n",
       "  <tbody>\n",
       "    <tr>\n",
       "      <th>count</th>\n",
       "      <td>5000.000000</td>\n",
       "      <td>5000.00000</td>\n",
       "      <td>5000.000000</td>\n",
       "      <td>5000.000000</td>\n",
       "      <td>5000.000000</td>\n",
       "      <td>5000.000000</td>\n",
       "      <td>5000.000000</td>\n",
       "      <td>5000.000000</td>\n",
       "      <td>5000.000000</td>\n",
       "      <td>5000.000000</td>\n",
       "      <td>5000.00000</td>\n",
       "    </tr>\n",
       "    <tr>\n",
       "      <th>mean</th>\n",
       "      <td>546.931600</td>\n",
       "      <td>43.95800</td>\n",
       "      <td>1492.422800</td>\n",
       "      <td>2.963400</td>\n",
       "      <td>5.489280</td>\n",
       "      <td>2.486800</td>\n",
       "      <td>2.996000</td>\n",
       "      <td>0.505800</td>\n",
       "      <td>0.497800</td>\n",
       "      <td>2192.000000</td>\n",
       "      <td>0.50020</td>\n",
       "    </tr>\n",
       "    <tr>\n",
       "      <th>std</th>\n",
       "      <td>260.455662</td>\n",
       "      <td>15.38767</td>\n",
       "      <td>286.817869</td>\n",
       "      <td>1.404441</td>\n",
       "      <td>2.622468</td>\n",
       "      <td>1.707984</td>\n",
       "      <td>1.412651</td>\n",
       "      <td>0.500016</td>\n",
       "      <td>0.500045</td>\n",
       "      <td>1513.603052</td>\n",
       "      <td>0.50005</td>\n",
       "    </tr>\n",
       "    <tr>\n",
       "      <th>min</th>\n",
       "      <td>100.000000</td>\n",
       "      <td>18.00000</td>\n",
       "      <td>1000.000000</td>\n",
       "      <td>1.000000</td>\n",
       "      <td>1.000000</td>\n",
       "      <td>0.000000</td>\n",
       "      <td>1.000000</td>\n",
       "      <td>0.000000</td>\n",
       "      <td>0.000000</td>\n",
       "      <td>500.000000</td>\n",
       "      <td>0.00000</td>\n",
       "    </tr>\n",
       "    <tr>\n",
       "      <th>25%</th>\n",
       "      <td>319.000000</td>\n",
       "      <td>31.00000</td>\n",
       "      <td>1245.000000</td>\n",
       "      <td>2.000000</td>\n",
       "      <td>3.200000</td>\n",
       "      <td>1.000000</td>\n",
       "      <td>2.000000</td>\n",
       "      <td>0.000000</td>\n",
       "      <td>0.000000</td>\n",
       "      <td>1000.000000</td>\n",
       "      <td>0.00000</td>\n",
       "    </tr>\n",
       "    <tr>\n",
       "      <th>50%</th>\n",
       "      <td>548.000000</td>\n",
       "      <td>44.00000</td>\n",
       "      <td>1493.000000</td>\n",
       "      <td>3.000000</td>\n",
       "      <td>5.500000</td>\n",
       "      <td>2.000000</td>\n",
       "      <td>3.000000</td>\n",
       "      <td>1.000000</td>\n",
       "      <td>0.000000</td>\n",
       "      <td>2000.000000</td>\n",
       "      <td>1.00000</td>\n",
       "    </tr>\n",
       "    <tr>\n",
       "      <th>75%</th>\n",
       "      <td>774.000000</td>\n",
       "      <td>57.00000</td>\n",
       "      <td>1739.250000</td>\n",
       "      <td>4.000000</td>\n",
       "      <td>7.700000</td>\n",
       "      <td>4.000000</td>\n",
       "      <td>4.000000</td>\n",
       "      <td>1.000000</td>\n",
       "      <td>1.000000</td>\n",
       "      <td>3000.000000</td>\n",
       "      <td>1.00000</td>\n",
       "    </tr>\n",
       "    <tr>\n",
       "      <th>max</th>\n",
       "      <td>999.000000</td>\n",
       "      <td>70.00000</td>\n",
       "      <td>2000.000000</td>\n",
       "      <td>5.000000</td>\n",
       "      <td>10.000000</td>\n",
       "      <td>5.000000</td>\n",
       "      <td>5.000000</td>\n",
       "      <td>1.000000</td>\n",
       "      <td>1.000000</td>\n",
       "      <td>5000.000000</td>\n",
       "      <td>1.00000</td>\n",
       "    </tr>\n",
       "  </tbody>\n",
       "</table>\n",
       "</div>"
      ],
      "text/plain": [
       "           User_ID         Age  Location_ID       Rating     Duration  \\\n",
       "count  5000.000000  5000.00000  5000.000000  5000.000000  5000.000000   \n",
       "mean    546.931600    43.95800  1492.422800     2.963400     5.489280   \n",
       "std     260.455662    15.38767   286.817869     1.404441     2.622468   \n",
       "min     100.000000    18.00000  1000.000000     1.000000     1.000000   \n",
       "25%     319.000000    31.00000  1245.000000     2.000000     3.200000   \n",
       "50%     548.000000    44.00000  1493.000000     3.000000     5.500000   \n",
       "75%     774.000000    57.00000  1739.250000     4.000000     7.700000   \n",
       "max     999.000000    70.00000  2000.000000     5.000000    10.000000   \n",
       "\n",
       "        Companions  Local_Cuisine_Rating  Is_Family_Friendly  \\\n",
       "count  5000.000000           5000.000000         5000.000000   \n",
       "mean      2.486800              2.996000            0.505800   \n",
       "std       1.707984              1.412651            0.500016   \n",
       "min       0.000000              1.000000            0.000000   \n",
       "25%       1.000000              2.000000            0.000000   \n",
       "50%       2.000000              3.000000            1.000000   \n",
       "75%       4.000000              4.000000            1.000000   \n",
       "max       5.000000              5.000000            1.000000   \n",
       "\n",
       "       Language_Barrier       Budget   Recommend  \n",
       "count       5000.000000  5000.000000  5000.00000  \n",
       "mean           0.497800  2192.000000     0.50020  \n",
       "std            0.500045  1513.603052     0.50005  \n",
       "min            0.000000   500.000000     0.00000  \n",
       "25%            0.000000  1000.000000     0.00000  \n",
       "50%            0.000000  2000.000000     1.00000  \n",
       "75%            1.000000  3000.000000     1.00000  \n",
       "max            1.000000  5000.000000     1.00000  "
      ]
     },
     "execution_count": 5,
     "metadata": {},
     "output_type": "execute_result"
    }
   ],
   "source": [
    "data.describe()"
   ]
  },
  {
   "cell_type": "markdown",
   "id": "0dacb168-246b-4df2-88f0-718ab78a9763",
   "metadata": {},
   "source": [
    "#### Data Cleaning"
   ]
  },
  {
   "cell_type": "code",
   "execution_count": 6,
   "id": "257920f3-e8af-4192-a67f-b784f654e972",
   "metadata": {},
   "outputs": [
    {
     "data": {
      "text/plain": [
       "User_ID                 0\n",
       "Age                     0\n",
       "Gender                  0\n",
       "Location_ID             0\n",
       "Location_Name           0\n",
       "Category                0\n",
       "Rating                  0\n",
       "Review                  0\n",
       "Visit_Date              0\n",
       "Duration                0\n",
       "Activity                0\n",
       "Companions              0\n",
       "Accommodation           0\n",
       "Price_Range             0\n",
       "Local_Cuisine_Rating    0\n",
       "Weather_Preference      0\n",
       "Transport               0\n",
       "Is_Family_Friendly      0\n",
       "Language_Barrier        0\n",
       "Budget                  0\n",
       "Recommend               0\n",
       "dtype: int64"
      ]
     },
     "execution_count": 6,
     "metadata": {},
     "output_type": "execute_result"
    }
   ],
   "source": [
    "data.isnull().sum()"
   ]
  },
  {
   "cell_type": "markdown",
   "id": "7d4df2f1-0be6-431c-89cc-0eb740e63ee7",
   "metadata": {},
   "source": [
    "#### Encode categorical features"
   ]
  },
  {
   "cell_type": "code",
   "execution_count": 7,
   "id": "cccff84d-270d-4d13-9400-deea2dafa0e9",
   "metadata": {},
   "outputs": [],
   "source": [
    "le = LabelEncoder()"
   ]
  },
  {
   "cell_type": "code",
   "execution_count": 8,
   "id": "1f106e28-ee71-44cb-bbc8-bd19e41d0f17",
   "metadata": {},
   "outputs": [],
   "source": [
    "# Define categorical columns that need encoding\n",
    "categorical_columns = ['Gender', 'Category', 'Activity', 'Accommodation','Price_Range', 'Weather_Preference', 'Transport', \n",
    "                       'Is_Family_Friendly', 'Language_Barrier']\n",
    "\n",
    "# Initialize LabelEncoder\n",
    "le = LabelEncoder()\n",
    "\n",
    "for column in categorical_columns:\n",
    "    data[column] = le.fit_transform(data[column].astype(str))"
   ]
  },
  {
   "cell_type": "code",
   "execution_count": 9,
   "id": "df8ebf93-5d15-4318-8fc0-755045ee8241",
   "metadata": {},
   "outputs": [],
   "source": [
    "data['Visit_Date'] = pd.to_datetime(data['Visit_Date'])"
   ]
  },
  {
   "cell_type": "code",
   "execution_count": 10,
   "id": "09963c4e-ce42-4e9d-81a6-28aa53a1c0fc",
   "metadata": {},
   "outputs": [],
   "source": [
    "# Drop or process columns with textual data\n",
    "data.drop(columns=['Review'], inplace=True) "
   ]
  },
  {
   "cell_type": "markdown",
   "id": "c97d2d6b-ed04-434b-9915-b10f0f930e7a",
   "metadata": {},
   "source": [
    "#### Data Analysis"
   ]
  },
  {
   "cell_type": "code",
   "execution_count": 11,
   "id": "dd2e235f-76fc-447a-96b1-a04b89a2330c",
   "metadata": {},
   "outputs": [
    {
     "name": "stdout",
     "output_type": "stream",
     "text": [
      "           User_ID         Age       Gender  Location_ID     Category  \\\n",
      "count  5000.000000  5000.00000  5000.000000  5000.000000  5000.000000   \n",
      "mean    546.931600    43.95800     0.995600  1492.422800     1.511800   \n",
      "min     100.000000    18.00000     0.000000  1000.000000     0.000000   \n",
      "25%     319.000000    31.00000     0.000000  1245.000000     0.000000   \n",
      "50%     548.000000    44.00000     1.000000  1493.000000     2.000000   \n",
      "75%     774.000000    57.00000     2.000000  1739.250000     3.000000   \n",
      "max     999.000000    70.00000     2.000000  2000.000000     3.000000   \n",
      "std     260.455662    15.38767     0.814932   286.817869     1.125751   \n",
      "\n",
      "            Rating                     Visit_Date     Duration     Activity  \\\n",
      "count  5000.000000                           5000  5000.000000  5000.000000   \n",
      "mean      2.963400  2022-05-08 17:34:04.800000256     5.489280     2.004600   \n",
      "min       1.000000            2020-01-01 00:00:00     1.000000     0.000000   \n",
      "25%       2.000000            2021-03-08 00:00:00     3.200000     1.000000   \n",
      "50%       3.000000            2022-05-08 00:00:00     5.500000     2.000000   \n",
      "75%       4.000000            2023-07-07 00:00:00     7.700000     3.000000   \n",
      "max       5.000000            2024-09-13 00:00:00    10.000000     4.000000   \n",
      "std       1.404441                            NaN     2.622468     1.402916   \n",
      "\n",
      "        Companions  Accommodation  Price_Range  Local_Cuisine_Rating  \\\n",
      "count  5000.000000    5000.000000  5000.000000           5000.000000   \n",
      "mean      2.486800       1.981200     1.003600              2.996000   \n",
      "min       0.000000       0.000000     0.000000              1.000000   \n",
      "25%       1.000000       1.000000     0.000000              2.000000   \n",
      "50%       2.000000       2.000000     1.000000              3.000000   \n",
      "75%       4.000000       3.000000     2.000000              4.000000   \n",
      "max       5.000000       4.000000     2.000000              5.000000   \n",
      "std       1.707984       1.406287     0.814199              1.412651   \n",
      "\n",
      "       Weather_Preference    Transport  Is_Family_Friendly  Language_Barrier  \\\n",
      "count         5000.000000  5000.000000         5000.000000       5000.000000   \n",
      "mean             1.005600     2.038200            0.505800          0.497800   \n",
      "min              0.000000     0.000000            0.000000          0.000000   \n",
      "25%              0.000000     1.000000            0.000000          0.000000   \n",
      "50%              1.000000     2.000000            1.000000          0.000000   \n",
      "75%              2.000000     3.000000            1.000000          1.000000   \n",
      "max              2.000000     4.000000            1.000000          1.000000   \n",
      "std              0.820307     1.410226            0.500016          0.500045   \n",
      "\n",
      "            Budget   Recommend  \n",
      "count  5000.000000  5000.00000  \n",
      "mean   2192.000000     0.50020  \n",
      "min     500.000000     0.00000  \n",
      "25%    1000.000000     0.00000  \n",
      "50%    2000.000000     1.00000  \n",
      "75%    3000.000000     1.00000  \n",
      "max    5000.000000     1.00000  \n",
      "std    1513.603052     0.50005  \n"
     ]
    }
   ],
   "source": [
    "print(data.describe())"
   ]
  },
  {
   "cell_type": "code",
   "execution_count": 12,
   "id": "9923328e-3d9c-4c8d-a51a-6c04919cea9c",
   "metadata": {},
   "outputs": [],
   "source": [
    "# Selecting relevant features for segmentation\n",
    "features = ['Age', 'Budget', 'Price_Range', 'Duration', 'Local_Cuisine_Rating']"
   ]
  },
  {
   "cell_type": "code",
   "execution_count": 13,
   "id": "e755200a-60a5-410c-9a98-795faaaddb35",
   "metadata": {},
   "outputs": [
    {
     "data": {
      "text/plain": [
       "User_ID                          int64\n",
       "Age                              int64\n",
       "Gender                           int32\n",
       "Location_ID                      int64\n",
       "Location_Name                   object\n",
       "Category                         int32\n",
       "Rating                           int64\n",
       "Visit_Date              datetime64[ns]\n",
       "Duration                       float64\n",
       "Activity                         int32\n",
       "Companions                       int64\n",
       "Accommodation                    int32\n",
       "Price_Range                      int32\n",
       "Local_Cuisine_Rating             int64\n",
       "Weather_Preference               int32\n",
       "Transport                        int32\n",
       "Is_Family_Friendly               int32\n",
       "Language_Barrier                 int32\n",
       "Budget                           int64\n",
       "Recommend                        int64\n",
       "dtype: object"
      ]
     },
     "execution_count": 13,
     "metadata": {},
     "output_type": "execute_result"
    }
   ],
   "source": [
    "data.dtypes"
   ]
  },
  {
   "cell_type": "code",
   "execution_count": 14,
   "id": "a14aae37-fcb4-45e7-991f-ffad7c3a2028",
   "metadata": {},
   "outputs": [],
   "source": [
    "# Normalizing data\n",
    "scaler = StandardScaler()\n",
    "features_scaled = scaler.fit_transform(data[features])"
   ]
  },
  {
   "cell_type": "code",
   "execution_count": 15,
   "id": "c24552ee-94e4-4647-844e-2c33a617b8d8",
   "metadata": {},
   "outputs": [
    {
     "name": "stderr",
     "output_type": "stream",
     "text": [
      "C:\\hp\\anaconda\\Lib\\site-packages\\sklearn\\cluster\\_kmeans.py:870: FutureWarning: The default value of `n_init` will change from 10 to 'auto' in 1.4. Set the value of `n_init` explicitly to suppress the warning\n",
      "  warnings.warn(\n"
     ]
    }
   ],
   "source": [
    "# Applying KMeans Clustering\n",
    "kmeans = KMeans(n_clusters=4, random_state=42)\n",
    "data['Cluster'] = kmeans.fit_predict(features_scaled)"
   ]
  },
  {
   "cell_type": "code",
   "execution_count": 16,
   "id": "428a47d8-b178-4241-b431-48160e33ea40",
   "metadata": {},
   "outputs": [
    {
     "data": {
      "image/png": "[encoded data removed]",
      "text/plain": [
       "<Figure size 1000x600 with 1 Axes>"
      ]
     },
     "metadata": {},
     "output_type": "display_data"
    }
   ],
   "source": [
    "# Visualizing the clusters based on Age and Budget\n",
    "plt.figure(figsize=(10, 6))\n",
    "sns.scatterplot(x=data['Age'], y=data['Budget'], hue=data['Cluster'], palette='viridis')\n",
    "plt.title('User Segmentation based on Age and Budget')\n",
    "plt.show()"
   ]
  },
  {
   "cell_type": "code",
   "execution_count": 17,
   "id": "704c5b37-5c4b-4db0-a091-f85c97f4f532",
   "metadata": {},
   "outputs": [],
   "source": [
    "# Step 4: Machine Learning Model (Logistic Regression)\n",
    "# Predicting if a user will recommend a location\n",
    "X = data[['Age', 'Gender', 'Category', 'Rating', 'Duration', 'Price_Range', 'Local_Cuisine_Rating', 'Budget']]\n",
    "y = data['Recommend']"
   ]
  },
  {
   "cell_type": "markdown",
   "id": "c8ff19d2-3f12-49c5-bca0-a9c808544a98",
   "metadata": {},
   "source": [
    "#### Split the data"
   ]
  },
  {
   "cell_type": "code",
   "execution_count": 18,
   "id": "4d764fea-e950-4d83-8537-db2c020881f0",
   "metadata": {},
   "outputs": [],
   "source": [
    "X_train, X_test, y_train, y_test = train_test_split(X, y, test_size=0.2, random_state=42)"
   ]
  },
  {
   "cell_type": "code",
   "execution_count": 19,
   "id": "0675b544-9922-4d61-9ece-ee5825a7055f",
   "metadata": {},
   "outputs": [
    {
     "data": {
      "text/html": [
       "<style>#sk-container-id-1 {color: black;background-color: white;}#sk-container-id-1 pre{padding: 0;}#sk-container-id-1 div.sk-toggleable {background-color: white;}#sk-container-id-1 label.sk-toggleable__label {cursor: pointer;display: block;width: 100%;margin-bottom: 0;padding: 0.3em;box-sizing: border-box;text-align: center;}#sk-container-id-1 label.sk-toggleable__label-arrow:before {content: \"▸\";float: left;margin-right: 0.25em;color: #696969;}#sk-container-id-1 label.sk-toggleable__label-arrow:hover:before {color: black;}#sk-container-id-1 div.sk-estimator:hover label.sk-toggleable__label-arrow:before {color: black;}#sk-container-id-1 div.sk-toggleable__content {max-height: 0;max-width: 0;overflow: hidden;text-align: left;background-color: #f0f8ff;}#sk-container-id-1 div.sk-toggleable__content pre {margin: 0.2em;color: black;border-radius: 0.25em;background-color: #f0f8ff;}#sk-container-id-1 input.sk-toggleable__control:checked~div.sk-toggleable__content {max-height: 200px;max-width: 100%;overflow: auto;}#sk-container-id-1 input.sk-toggleable__control:checked~label.sk-toggleable__label-arrow:before {content: \"▾\";}#sk-container-id-1 div.sk-estimator input.sk-toggleable__control:checked~label.sk-toggleable__label {background-color: #d4ebff;}#sk-container-id-1 div.sk-label input.sk-toggleable__control:checked~label.sk-toggleable__label {background-color: #d4ebff;}#sk-container-id-1 input.sk-hidden--visually {border: 0;clip: rect(1px 1px 1px 1px);clip: rect(1px, 1px, 1px, 1px);height: 1px;margin: -1px;overflow: hidden;padding: 0;position: absolute;width: 1px;}#sk-container-id-1 div.sk-estimator {font-family: monospace;background-color: #f0f8ff;border: 1px dotted black;border-radius: 0.25em;box-sizing: border-box;margin-bottom: 0.5em;}#sk-container-id-1 div.sk-estimator:hover {background-color: #d4ebff;}#sk-container-id-1 div.sk-parallel-item::after {content: \"\";width: 100%;border-bottom: 1px solid gray;flex-grow: 1;}#sk-container-id-1 div.sk-label:hover label.sk-toggleable__label {background-color: #d4ebff;}#sk-container-id-1 div.sk-serial::before {content: \"\";position: absolute;border-left: 1px solid gray;box-sizing: border-box;top: 0;bottom: 0;left: 50%;z-index: 0;}#sk-container-id-1 div.sk-serial {display: flex;flex-direction: column;align-items: center;background-color: white;padding-right: 0.2em;padding-left: 0.2em;position: relative;}#sk-container-id-1 div.sk-item {position: relative;z-index: 1;}#sk-container-id-1 div.sk-parallel {display: flex;align-items: stretch;justify-content: center;background-color: white;position: relative;}#sk-container-id-1 div.sk-item::before, #sk-container-id-1 div.sk-parallel-item::before {content: \"\";position: absolute;border-left: 1px solid gray;box-sizing: border-box;top: 0;bottom: 0;left: 50%;z-index: -1;}#sk-container-id-1 div.sk-parallel-item {display: flex;flex-direction: column;z-index: 1;position: relative;background-color: white;}#sk-container-id-1 div.sk-parallel-item:first-child::after {align-self: flex-end;width: 50%;}#sk-container-id-1 div.sk-parallel-item:last-child::after {align-self: flex-start;width: 50%;}#sk-container-id-1 div.sk-parallel-item:only-child::after {width: 0;}#sk-container-id-1 div.sk-dashed-wrapped {border: 1px dashed gray;margin: 0 0.4em 0.5em 0.4em;box-sizing: border-box;padding-bottom: 0.4em;background-color: white;}#sk-container-id-1 div.sk-label label {font-family: monospace;font-weight: bold;display: inline-block;line-height: 1.2em;}#sk-container-id-1 div.sk-label-container {text-align: center;}#sk-container-id-1 div.sk-container {/* jupyter's `normalize.less` sets `[hidden] { display: none; }` but bootstrap.min.css set `[hidden] { display: none !important; }` so we also need the `!important` here to be able to override the default hidden behavior on the sphinx rendered scikit-learn.org. See: https://github.com/scikit-learn/scikit-learn/issues/21755 */display: inline-block !important;position: relative;}#sk-container-id-1 div.sk-text-repr-fallback {display: none;}</style><div id=\"sk-container-id-1\" class=\"sk-top-container\"><div class=\"sk-text-repr-fallback\"><pre>LogisticRegression(random_state=42)</pre><b>In a Jupyter environment, please rerun this cell to show the HTML representation or trust the notebook. <br />On GitHub, the HTML representation is unable to render, please try loading this page with nbviewer.org.</b></div><div class=\"sk-container\" hidden><div class=\"sk-item\"><div class=\"sk-estimator sk-toggleable\"><input class=\"sk-toggleable__control sk-hidden--visually\" id=\"sk-estimator-id-1\" type=\"checkbox\" checked><label for=\"sk-estimator-id-1\" class=\"sk-toggleable__label sk-toggleable__label-arrow\">LogisticRegression</label><div class=\"sk-toggleable__content\"><pre>LogisticRegression(random_state=42)</pre></div></div></div></div></div>"
      ],
      "text/plain": [
       "LogisticRegression(random_state=42)"
      ]
     },
     "execution_count": 19,
     "metadata": {},
     "output_type": "execute_result"
    }
   ],
   "source": [
    "# Logistic Regression Model\n",
    "model = LogisticRegression(random_state=42)\n",
    "model.fit(X_train, y_train)"
   ]
  },
  {
   "cell_type": "code",
   "execution_count": 20,
   "id": "51139696-37af-4020-8162-d744db33cc08",
   "metadata": {},
   "outputs": [],
   "source": [
    "# Making predictions and evaluating the model\n",
    "y_pred = model.predict(X_test)\n",
    "accuracy = accuracy_score(y_test, y_pred)"
   ]
  },
  {
   "cell_type": "code",
   "execution_count": 21,
   "id": "0c61e3a1-7cfa-4275-90df-a5a6dbd80dae",
   "metadata": {},
   "outputs": [
    {
     "name": "stdout",
     "output_type": "stream",
     "text": [
      "Logistic Regression Model Accuracy: 48.30%\n",
      "Confusion Matrix:\n",
      " [[176 343]\n",
      " [174 307]]\n",
      "Classification Report:\n",
      "               precision    recall  f1-score   support\n",
      "\n",
      "           0       0.50      0.34      0.41       519\n",
      "           1       0.47      0.64      0.54       481\n",
      "\n",
      "    accuracy                           0.48      1000\n",
      "   macro avg       0.49      0.49      0.47      1000\n",
      "weighted avg       0.49      0.48      0.47      1000\n",
      "\n"
     ]
    }
   ],
   "source": [
    "print(f\"Logistic Regression Model Accuracy: {accuracy * 100:.2f}%\")\n",
    "print(\"Confusion Matrix:\\n\", confusion_matrix(y_test, y_pred))\n",
    "print(\"Classification Report:\\n\", classification_report(y_test, y_pred))"
   ]
  },
  {
   "cell_type": "code",
   "execution_count": 22,
   "id": "79285683-872c-4647-b86e-a4194cbb76ef",
   "metadata": {},
   "outputs": [],
   "source": [
    "# Display a few predictions vs actuals\n",
    "sample_data = X_test.sample(5, random_state=42)\n",
    "sample_pred = model.predict(sample_data)\n",
    "sample_actual = y_test.loc[sample_data.index]"
   ]
  },
  {
   "cell_type": "markdown",
   "id": "e19031cb-0e23-4ea3-b3b5-2ebc06cf6b5c",
   "metadata": {},
   "source": [
    "#### Sample Prediction"
   ]
  },
  {
   "cell_type": "code",
   "execution_count": 23,
   "id": "1351b9a3-b4e9-453d-adc4-742fea421c21",
   "metadata": {},
   "outputs": [
    {
     "name": "stdout",
     "output_type": "stream",
     "text": [
      "\n",
      "Sample Predictions vs Actual Values:\n",
      "User 3707: Predicted = 1, Actual = 0\n",
      "User 828: Predicted = 1, Actual = 1\n",
      "User 2664: Predicted = 0, Actual = 1\n",
      "User 1047: Predicted = 1, Actual = 1\n",
      "User 3197: Predicted = 0, Actual = 0\n"
     ]
    }
   ],
   "source": [
    "print(\"\\nSample Predictions vs Actual Values:\")\n",
    "for idx in sample_data.index:\n",
    "    print(f\"User {idx}: Predicted = {sample_pred[sample_data.index.get_loc(idx)]}, Actual = {sample_actual[idx]}\")"
   ]
  },
  {
   "cell_type": "markdown",
   "id": "1aacc979-76ed-4106-9621-bfbb8f567951",
   "metadata": {},
   "source": [
    "#### Financial Equation"
   ]
  },
  {
   "cell_type": "code",
   "execution_count": 24,
   "id": "440db506-e05a-4753-b766-d7acaec7d38b",
   "metadata": {},
   "outputs": [],
   "source": [
    "unit_price = 500  # Example unit price for the product\n",
    "fixed_cost = 2000  # Monthly cost of running the business"
   ]
  },
  {
   "cell_type": "code",
   "execution_count": 25,
   "id": "ebf512dd-0b17-45d0-855b-a46c8a79d6b9",
   "metadata": {},
   "outputs": [],
   "source": [
    "# Assuming sales_number can be inferred from the dataset using some metric like 'Recommend' counts or any other available metric\n",
    "# You can tweak this part as per the actual dataset structure\n",
    "sales_number = data['Recommend'].sum()  # Assuming 'Recommend' counts as a proxy for sales"
   ]
  },
  {
   "cell_type": "code",
   "execution_count": 26,
   "id": "b9a82fa9-d0b5-4244-8b1c-f7be8196b32c",
   "metadata": {},
   "outputs": [
    {
     "name": "stdout",
     "output_type": "stream",
     "text": [
      "Total Revenue: Rs. 1248500\n"
     ]
    }
   ],
   "source": [
    "# Calculating total revenue\n",
    "total_revenue = (unit_price * sales_number) - fixed_cost\n",
    "print(f\"Total Revenue: Rs. {total_revenue}\")"
   ]
  },
  {
   "cell_type": "code",
   "execution_count": 27,
   "id": "8015aef0-a1c7-4db6-9787-3afcf752b396",
   "metadata": {},
   "outputs": [],
   "source": [
    "# Adding revenue column to the dataset\n",
    "data['Revenue'] = (unit_price * data['Recommend']) - fixed_cost"
   ]
  },
  {
   "cell_type": "markdown",
   "id": "ec83141e-22fb-4bf1-aafe-3070369c5dc2",
   "metadata": {},
   "source": [
    "#### Visualize the Data"
   ]
  },
  {
   "cell_type": "code",
   "execution_count": 28,
   "id": "484df398-ce06-4f82-a058-c35c2df74423",
   "metadata": {},
   "outputs": [
    {
     "data": {
      "image/png": "[encoded data removed]",
      "text/plain": [
       "<Figure size 1000x600 with 1 Axes>"
      ]
     },
     "metadata": {},
     "output_type": "display_data"
    }
   ],
   "source": [
    "# Rating distribution by Location\n",
    "plt.figure(figsize=(10, 6))\n",
    "sns.boxplot(x='Location_Name', y='Rating', data=data)\n",
    "plt.title('Rating Distribution by Location')\n",
    "plt.xticks(rotation=90)\n",
    "plt.show()"
   ]
  },
  {
   "cell_type": "code",
   "execution_count": 29,
   "id": "3e26680d-35df-4438-9799-676c247d9503",
   "metadata": {},
   "outputs": [
    {
     "data": {
      "image/png": "[encoded data removed]",
      "text/plain": [
       "<Figure size 600x400 with 1 Axes>"
      ]
     },
     "metadata": {},
     "output_type": "display_data"
    }
   ],
   "source": [
    "# Recommendation percentage by gender\n",
    "plt.figure(figsize=(6, 4))\n",
    "sns.barplot(x='Gender', y='Recommend', data=data, estimator=lambda x: sum(x)/len(x))\n",
    "plt.title('Recommendation Percentage by Gender')\n",
    "plt.xticks([0, 1, 2], ['Male', 'Female', 'Other'])\n",
    "plt.show()"
   ]
  },
  {
   "cell_type": "code",
   "execution_count": null,
   "id": "8ce267f3-a18f-46f7-89c1-4b8555b8d42e",
   "metadata": {},
   "outputs": [],
   "source": []
  }
 ],
 "metadata": {
  "kernelspec": {
   "display_name": "Python 3 (ipykernel)",
   "language": "python",
   "name": "python3"
  },
  "language_info": {
   "codemirror_mode": {
    "name": "ipython",
    "version": 3
   },
   "file_extension": ".py",
   "mimetype": "text/x-python",
   "name": "python",
   "nbconvert_exporter": "python",
   "pygments_lexer": "ipython3",
   "version": "3.11.7"
  }
 },
 "nbformat": 4,
 "nbformat_minor": 5
}
